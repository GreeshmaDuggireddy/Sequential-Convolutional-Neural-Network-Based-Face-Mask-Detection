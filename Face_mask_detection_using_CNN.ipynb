{
  "nbformat": 4,
  "nbformat_minor": 0,
  "metadata": {
    "accelerator": "GPU",
    "colab": {
      "provenance": []
    },
    "kernelspec": {
      "display_name": "Python 3",
      "name": "python3"
    }
  },
  "cells": [
    {
      "cell_type": "markdown",
      "metadata": {
        "id": "cEab4EMnAoKp"
      },
      "source": [
        "Importing dataset from google drive"
      ]
    },
    {
      "cell_type": "code",
      "metadata": {
        "id": "OZCLJ3nH8GjS",
        "colab": {
          "base_uri": "https://localhost:8080/"
        },
        "outputId": "31b1d967-6e3b-4688-cc29-996c66aaef3e"
      },
      "source": [
        "from google.colab import drive\n",
        "drive.mount('/content/drive')"
      ],
      "execution_count": null,
      "outputs": [
        {
          "output_type": "stream",
          "name": "stdout",
          "text": [
            "Drive already mounted at /content/drive; to attempt to forcibly remount, call drive.mount(\"/content/drive\", force_remount=True).\n"
          ]
        }
      ]
    },
    {
      "cell_type": "code",
      "metadata": {
        "id": "vMuaPJrlYOI7"
      },
      "source": [
        "import tensorflow as tf"
      ],
      "execution_count": null,
      "outputs": []
    },
    {
      "cell_type": "code",
      "metadata": {
        "id": "68CuZrl4YeyO"
      },
      "source": [
        "import keras as ks"
      ],
      "execution_count": null,
      "outputs": []
    },
    {
      "cell_type": "code",
      "metadata": {
        "id": "KkxwJOGOYmZF"
      },
      "source": [
        "from tensorflow.keras.layers import Flatten\n",
        "from tensorflow.keras.layers import Dense\n",
        "from tensorflow.keras.layers import Input\n",
        "from tensorflow.keras.models import Model\n",
        "from tensorflow.keras.optimizers import Adam\n",
        "from tensorflow.keras.applications.mobilenet_v2 import preprocess_input\n",
        "from tensorflow.keras.preprocessing.image import img_to_array\n",
        "from tensorflow.keras.preprocessing.image import load_img\n",
        "from tensorflow.keras.utils import to_categorical\n",
        "from sklearn.preprocessing import LabelBinarizer\n",
        "from sklearn.model_selection import train_test_split\n",
        "from sklearn.metrics import classification_report\n",
        "from imutils import paths\n",
        "import matplotlib.pyplot as plt\n",
        "import numpy as np\n",
        "import os\n"
      ],
      "execution_count": null,
      "outputs": []
    },
    {
      "cell_type": "markdown",
      "metadata": {
        "id": "lb_I9GOGWWQo"
      },
      "source": [
        "Initialize the initial learning rate, number of epochs to train for, and batch size"
      ]
    },
    {
      "cell_type": "code",
      "metadata": {
        "id": "rkpZN9ijYw6k"
      },
      "source": [
        "INIT_LR=1e-4\n",
        "EPCHS = 300\n",
        "BS = 32"
      ],
      "execution_count": null,
      "outputs": []
    },
    {
      "cell_type": "markdown",
      "metadata": {
        "id": "P7VUoMinWxjj"
      },
      "source": [
        "Labelling of the dataset"
      ]
    },
    {
      "cell_type": "code",
      "metadata": {
        "colab": {
          "base_uri": "https://localhost:8080/"
        },
        "id": "5gHlMVGZeBbz",
        "outputId": "c6ddc510-360b-4990-e38d-e7d792ec35f5"
      },
      "source": [
        "import cv2,os\n",
        "data_path='/content/drive/My Drive/FaceDataset'\n",
        "categories=os.listdir(data_path)\n",
        "labels=[i for i in range(len(categories))]\n",
        "\n",
        "label_dict=dict(zip(categories,labels))\n",
        "\n",
        "print(label_dict)\n",
        "print(categories)\n",
        "print(labels)"
      ],
      "execution_count": null,
      "outputs": [
        {
          "output_type": "stream",
          "name": "stdout",
          "text": [
            "{'with_mask': 0, 'without_mask': 1}\n",
            "['with_mask', 'without_mask']\n",
            "[0, 1]\n"
          ]
        }
      ]
    },
    {
      "cell_type": "markdown",
      "metadata": {
        "id": "20GQNohrC7MC"
      },
      "source": [
        "Image Sizing"
      ]
    },
    {
      "cell_type": "code",
      "metadata": {
        "id": "kPNzQqmReZ_o"
      },
      "source": [
        "img_size=224\n",
        "data=[]\n",
        "target=[]\n",
        "\n",
        "\n",
        "for category in categories:\n",
        "    folder_path=os.path.join(data_path,category)\n",
        "    img_names=os.listdir(folder_path)\n",
        "\n",
        "    for img_name in img_names:\n",
        "        img_path=os.path.join(folder_path,img_name)\n",
        "        img=cv2.imread(img_path)\n",
        "\n",
        "        try:\n",
        "            gray=cv2.cvtColor(img,cv2.COLOR_BGR2GRAY)\n",
        "\n",
        "            resized=cv2.resize(gray,(img_size,img_size))\n",
        "\n",
        "            data.append(resized)\n",
        "            target.append(label_dict[category])\n",
        "\n",
        "\n",
        "        except Exception as e:\n",
        "            print('Exception:',e)\n",
        ""
      ],
      "execution_count": null,
      "outputs": []
    },
    {
      "cell_type": "code",
      "metadata": {
        "id": "6cg4rxojeils",
        "colab": {
          "base_uri": "https://localhost:8080/",
          "height": 415
        },
        "outputId": "c5cb4d30-b49d-4f4e-b03e-87f38867be0c"
      },
      "source": [
        "import numpy as np\n",
        "\n",
        "data=np.array(data)/255.0\n",
        "data=np.reshape(data,(data.shape[0],img_size,img_size,3))\n",
        "target=np.array(target)\n",
        "\n",
        "from keras.utils import np_utils\n",
        "\n",
        "new_target=np_utils.to_categorical(target)"
      ],
      "execution_count": null,
      "outputs": [
        {
          "output_type": "error",
          "ename": "ValueError",
          "evalue": "ignored",
          "traceback": [
            "\u001b[0;31m---------------------------------------------------------------------------\u001b[0m",
            "\u001b[0;31mValueError\u001b[0m                                Traceback (most recent call last)",
            "\u001b[0;32m<ipython-input-46-76ed0cc3e88b>\u001b[0m in \u001b[0;36m<module>\u001b[0;34m()\u001b[0m\n\u001b[1;32m      2\u001b[0m \u001b[0;34m\u001b[0m\u001b[0m\n\u001b[1;32m      3\u001b[0m \u001b[0mdata\u001b[0m\u001b[0;34m=\u001b[0m\u001b[0mnp\u001b[0m\u001b[0;34m.\u001b[0m\u001b[0marray\u001b[0m\u001b[0;34m(\u001b[0m\u001b[0mdata\u001b[0m\u001b[0;34m)\u001b[0m\u001b[0;34m/\u001b[0m\u001b[0;36m255.0\u001b[0m\u001b[0;34m\u001b[0m\u001b[0;34m\u001b[0m\u001b[0m\n\u001b[0;32m----> 4\u001b[0;31m \u001b[0mdata\u001b[0m\u001b[0;34m=\u001b[0m\u001b[0mnp\u001b[0m\u001b[0;34m.\u001b[0m\u001b[0mreshape\u001b[0m\u001b[0;34m(\u001b[0m\u001b[0mdata\u001b[0m\u001b[0;34m,\u001b[0m\u001b[0;34m(\u001b[0m\u001b[0mdata\u001b[0m\u001b[0;34m.\u001b[0m\u001b[0mshape\u001b[0m\u001b[0;34m[\u001b[0m\u001b[0;36m0\u001b[0m\u001b[0;34m]\u001b[0m\u001b[0;34m,\u001b[0m\u001b[0mimg_size\u001b[0m\u001b[0;34m,\u001b[0m\u001b[0mimg_size\u001b[0m\u001b[0;34m,\u001b[0m\u001b[0;36m3\u001b[0m\u001b[0;34m)\u001b[0m\u001b[0;34m)\u001b[0m\u001b[0;34m\u001b[0m\u001b[0;34m\u001b[0m\u001b[0m\n\u001b[0m\u001b[1;32m      5\u001b[0m \u001b[0mtarget\u001b[0m\u001b[0;34m=\u001b[0m\u001b[0mnp\u001b[0m\u001b[0;34m.\u001b[0m\u001b[0marray\u001b[0m\u001b[0;34m(\u001b[0m\u001b[0mtarget\u001b[0m\u001b[0;34m)\u001b[0m\u001b[0;34m\u001b[0m\u001b[0;34m\u001b[0m\u001b[0m\n\u001b[1;32m      6\u001b[0m \u001b[0;34m\u001b[0m\u001b[0m\n",
            "\u001b[0;32m<__array_function__ internals>\u001b[0m in \u001b[0;36mreshape\u001b[0;34m(*args, **kwargs)\u001b[0m\n",
            "\u001b[0;32m/usr/local/lib/python3.7/dist-packages/numpy/core/fromnumeric.py\u001b[0m in \u001b[0;36mreshape\u001b[0;34m(a, newshape, order)\u001b[0m\n\u001b[1;32m    296\u001b[0m            [5, 6]])\n\u001b[1;32m    297\u001b[0m     \"\"\"\n\u001b[0;32m--> 298\u001b[0;31m     \u001b[0;32mreturn\u001b[0m \u001b[0m_wrapfunc\u001b[0m\u001b[0;34m(\u001b[0m\u001b[0ma\u001b[0m\u001b[0;34m,\u001b[0m \u001b[0;34m'reshape'\u001b[0m\u001b[0;34m,\u001b[0m \u001b[0mnewshape\u001b[0m\u001b[0;34m,\u001b[0m \u001b[0morder\u001b[0m\u001b[0;34m=\u001b[0m\u001b[0morder\u001b[0m\u001b[0;34m)\u001b[0m\u001b[0;34m\u001b[0m\u001b[0;34m\u001b[0m\u001b[0m\n\u001b[0m\u001b[1;32m    299\u001b[0m \u001b[0;34m\u001b[0m\u001b[0m\n\u001b[1;32m    300\u001b[0m \u001b[0;34m\u001b[0m\u001b[0m\n",
            "\u001b[0;32m/usr/local/lib/python3.7/dist-packages/numpy/core/fromnumeric.py\u001b[0m in \u001b[0;36m_wrapfunc\u001b[0;34m(obj, method, *args, **kwds)\u001b[0m\n\u001b[1;32m     55\u001b[0m \u001b[0;34m\u001b[0m\u001b[0m\n\u001b[1;32m     56\u001b[0m     \u001b[0;32mtry\u001b[0m\u001b[0;34m:\u001b[0m\u001b[0;34m\u001b[0m\u001b[0;34m\u001b[0m\u001b[0m\n\u001b[0;32m---> 57\u001b[0;31m         \u001b[0;32mreturn\u001b[0m \u001b[0mbound\u001b[0m\u001b[0;34m(\u001b[0m\u001b[0;34m*\u001b[0m\u001b[0margs\u001b[0m\u001b[0;34m,\u001b[0m \u001b[0;34m**\u001b[0m\u001b[0mkwds\u001b[0m\u001b[0;34m)\u001b[0m\u001b[0;34m\u001b[0m\u001b[0;34m\u001b[0m\u001b[0m\n\u001b[0m\u001b[1;32m     58\u001b[0m     \u001b[0;32mexcept\u001b[0m \u001b[0mTypeError\u001b[0m\u001b[0;34m:\u001b[0m\u001b[0;34m\u001b[0m\u001b[0;34m\u001b[0m\u001b[0m\n\u001b[1;32m     59\u001b[0m         \u001b[0;31m# A TypeError occurs if the object does have such a method in its\u001b[0m\u001b[0;34m\u001b[0m\u001b[0;34m\u001b[0m\u001b[0;34m\u001b[0m\u001b[0m\n",
            "\u001b[0;31mValueError\u001b[0m: cannot reshape array of size 69042176 into shape (1376,224,224,3)"
          ]
        }
      ]
    },
    {
      "cell_type": "code",
      "metadata": {
        "id": "AueOZfQJerBY"
      },
      "source": [
        "np.save('data',data)\n",
        "np.save('target',new_target)"
      ],
      "execution_count": null,
      "outputs": []
    },
    {
      "cell_type": "code",
      "metadata": {
        "id": "ZNDxlzkBev8p"
      },
      "source": [
        "  import numpy as np\n",
        "\n",
        "  data=np.load('data.npy')\n",
        "  target=np.load('target.npy')\n",
        "\n"
      ],
      "execution_count": null,
      "outputs": []
    },
    {
      "cell_type": "code",
      "source": [
        "from __future__ import print_function, division\n",
        "from builtins import range, input\n",
        "\n",
        "from tensorflow.keras.layers import Input, Lambda, Dense, Flatten, AveragePooling2D, Dropout\n",
        "from tensorflow.keras.models import Model, load_model\n",
        "from tensorflow.keras.applications import InceptionV3\n",
        "from tensorflow.keras.applications.resnet50 import preprocess_input\n",
        "from tensorflow.keras.preprocessing import image\n",
        "from tensorflow.keras.preprocessing.image import ImageDataGenerator\n",
        "\n",
        "from sklearn.metrics import confusion_matrix, roc_curve\n",
        "import seaborn as sns\n",
        "import numpy as np\n",
        "import matplotlib.pyplot as plt\n",
        "import cv2\n",
        "from glob import glob"
      ],
      "metadata": {
        "id": "rQEvUbDeepl3"
      },
      "execution_count": null,
      "outputs": []
    },
    {
      "cell_type": "code",
      "metadata": {
        "id": "iYUplS-Ee8p0"
      },
      "source": [
        "inception = InceptionV3(weights=\"imagenet\", include_top=False,\n",
        "    input_tensor=Input(shape=(224, 224, 3)))\n",
        "\n",
        "outputs = inception.output\n",
        "outputs = Flatten(name=\"flatten\")(outputs)\n",
        "outputs = Dropout(0.5)(outputs)\n",
        "outputs = Dense(2, activation=\"softmax\")(outputs)\n",
        "\n",
        "model = Model(inputs=inception.input, outputs=outputs)\n",
        "\n",
        "for layer in inception.layers:\n",
        "    layer.trainable = False\n",
        "\n",
        "model.compile(\n",
        "        loss='categorical_crossentropy',\n",
        "        optimizer='adam',\n",
        "        metrics=['accuracy']\n",
        ")\n",
        "\n",
        "train_aug = ImageDataGenerator(\n",
        "    rotation_range=20,\n",
        "    width_shift_range=0.2,\n",
        "    height_shift_range=0.2,\n",
        "    horizontal_flip=True\n",
        ")"
      ],
      "execution_count": null,
      "outputs": []
    },
    {
      "cell_type": "code",
      "metadata": {
        "id": "1zFlsrMgscuJ",
        "colab": {
          "base_uri": "https://localhost:8080/"
        },
        "outputId": "f74f6fac-dab6-48cd-9b83-ab8b1058e43c"
      },
      "source": [
        "model.summary()"
      ],
      "execution_count": null,
      "outputs": [
        {
          "output_type": "stream",
          "name": "stdout",
          "text": [
            "Model: \"model_1\"\n",
            "__________________________________________________________________________________________________\n",
            " Layer (type)                   Output Shape         Param #     Connected to                     \n",
            "==================================================================================================\n",
            " input_3 (InputLayer)           [(None, 224, 224, 3  0           []                               \n",
            "                                )]                                                                \n",
            "                                                                                                  \n",
            " conv2d_190 (Conv2D)            (None, 111, 111, 32  864         ['input_3[0][0]']                \n",
            "                                )                                                                 \n",
            "                                                                                                  \n",
            " batch_normalization_188 (Batch  (None, 111, 111, 32  96         ['conv2d_190[0][0]']             \n",
            " Normalization)                 )                                                                 \n",
            "                                                                                                  \n",
            " activation_190 (Activation)    (None, 111, 111, 32  0           ['batch_normalization_188[0][0]']\n",
            "                                )                                                                 \n",
            "                                                                                                  \n",
            " conv2d_191 (Conv2D)            (None, 109, 109, 32  9216        ['activation_190[0][0]']         \n",
            "                                )                                                                 \n",
            "                                                                                                  \n",
            " batch_normalization_189 (Batch  (None, 109, 109, 32  96         ['conv2d_191[0][0]']             \n",
            " Normalization)                 )                                                                 \n",
            "                                                                                                  \n",
            " activation_191 (Activation)    (None, 109, 109, 32  0           ['batch_normalization_189[0][0]']\n",
            "                                )                                                                 \n",
            "                                                                                                  \n",
            " conv2d_192 (Conv2D)            (None, 109, 109, 64  18432       ['activation_191[0][0]']         \n",
            "                                )                                                                 \n",
            "                                                                                                  \n",
            " batch_normalization_190 (Batch  (None, 109, 109, 64  192        ['conv2d_192[0][0]']             \n",
            " Normalization)                 )                                                                 \n",
            "                                                                                                  \n",
            " activation_192 (Activation)    (None, 109, 109, 64  0           ['batch_normalization_190[0][0]']\n",
            "                                )                                                                 \n",
            "                                                                                                  \n",
            " max_pooling2d_10 (MaxPooling2D  (None, 54, 54, 64)  0           ['activation_192[0][0]']         \n",
            " )                                                                                                \n",
            "                                                                                                  \n",
            " conv2d_193 (Conv2D)            (None, 54, 54, 80)   5120        ['max_pooling2d_10[0][0]']       \n",
            "                                                                                                  \n",
            " batch_normalization_191 (Batch  (None, 54, 54, 80)  240         ['conv2d_193[0][0]']             \n",
            " Normalization)                                                                                   \n",
            "                                                                                                  \n",
            " activation_193 (Activation)    (None, 54, 54, 80)   0           ['batch_normalization_191[0][0]']\n",
            "                                                                                                  \n",
            " conv2d_194 (Conv2D)            (None, 52, 52, 192)  138240      ['activation_193[0][0]']         \n",
            "                                                                                                  \n",
            " batch_normalization_192 (Batch  (None, 52, 52, 192)  576        ['conv2d_194[0][0]']             \n",
            " Normalization)                                                                                   \n",
            "                                                                                                  \n",
            " activation_194 (Activation)    (None, 52, 52, 192)  0           ['batch_normalization_192[0][0]']\n",
            "                                                                                                  \n",
            " max_pooling2d_11 (MaxPooling2D  (None, 25, 25, 192)  0          ['activation_194[0][0]']         \n",
            " )                                                                                                \n",
            "                                                                                                  \n",
            " conv2d_198 (Conv2D)            (None, 25, 25, 64)   12288       ['max_pooling2d_11[0][0]']       \n",
            "                                                                                                  \n",
            " batch_normalization_196 (Batch  (None, 25, 25, 64)  192         ['conv2d_198[0][0]']             \n",
            " Normalization)                                                                                   \n",
            "                                                                                                  \n",
            " activation_198 (Activation)    (None, 25, 25, 64)   0           ['batch_normalization_196[0][0]']\n",
            "                                                                                                  \n",
            " conv2d_196 (Conv2D)            (None, 25, 25, 48)   9216        ['max_pooling2d_11[0][0]']       \n",
            "                                                                                                  \n",
            " conv2d_199 (Conv2D)            (None, 25, 25, 96)   55296       ['activation_198[0][0]']         \n",
            "                                                                                                  \n",
            " batch_normalization_194 (Batch  (None, 25, 25, 48)  144         ['conv2d_196[0][0]']             \n",
            " Normalization)                                                                                   \n",
            "                                                                                                  \n",
            " batch_normalization_197 (Batch  (None, 25, 25, 96)  288         ['conv2d_199[0][0]']             \n",
            " Normalization)                                                                                   \n",
            "                                                                                                  \n",
            " activation_196 (Activation)    (None, 25, 25, 48)   0           ['batch_normalization_194[0][0]']\n",
            "                                                                                                  \n",
            " activation_199 (Activation)    (None, 25, 25, 96)   0           ['batch_normalization_197[0][0]']\n",
            "                                                                                                  \n",
            " average_pooling2d_18 (AverageP  (None, 25, 25, 192)  0          ['max_pooling2d_11[0][0]']       \n",
            " ooling2D)                                                                                        \n",
            "                                                                                                  \n",
            " conv2d_195 (Conv2D)            (None, 25, 25, 64)   12288       ['max_pooling2d_11[0][0]']       \n",
            "                                                                                                  \n",
            " conv2d_197 (Conv2D)            (None, 25, 25, 64)   76800       ['activation_196[0][0]']         \n",
            "                                                                                                  \n",
            " conv2d_200 (Conv2D)            (None, 25, 25, 96)   82944       ['activation_199[0][0]']         \n",
            "                                                                                                  \n",
            " conv2d_201 (Conv2D)            (None, 25, 25, 32)   6144        ['average_pooling2d_18[0][0]']   \n",
            "                                                                                                  \n",
            " batch_normalization_193 (Batch  (None, 25, 25, 64)  192         ['conv2d_195[0][0]']             \n",
            " Normalization)                                                                                   \n",
            "                                                                                                  \n",
            " batch_normalization_195 (Batch  (None, 25, 25, 64)  192         ['conv2d_197[0][0]']             \n",
            " Normalization)                                                                                   \n",
            "                                                                                                  \n",
            " batch_normalization_198 (Batch  (None, 25, 25, 96)  288         ['conv2d_200[0][0]']             \n",
            " Normalization)                                                                                   \n",
            "                                                                                                  \n",
            " batch_normalization_199 (Batch  (None, 25, 25, 32)  96          ['conv2d_201[0][0]']             \n",
            " Normalization)                                                                                   \n",
            "                                                                                                  \n",
            " activation_195 (Activation)    (None, 25, 25, 64)   0           ['batch_normalization_193[0][0]']\n",
            "                                                                                                  \n",
            " activation_197 (Activation)    (None, 25, 25, 64)   0           ['batch_normalization_195[0][0]']\n",
            "                                                                                                  \n",
            " activation_200 (Activation)    (None, 25, 25, 96)   0           ['batch_normalization_198[0][0]']\n",
            "                                                                                                  \n",
            " activation_201 (Activation)    (None, 25, 25, 32)   0           ['batch_normalization_199[0][0]']\n",
            "                                                                                                  \n",
            " mixed0 (Concatenate)           (None, 25, 25, 256)  0           ['activation_195[0][0]',         \n",
            "                                                                  'activation_197[0][0]',         \n",
            "                                                                  'activation_200[0][0]',         \n",
            "                                                                  'activation_201[0][0]']         \n",
            "                                                                                                  \n",
            " conv2d_205 (Conv2D)            (None, 25, 25, 64)   16384       ['mixed0[0][0]']                 \n",
            "                                                                                                  \n",
            " batch_normalization_203 (Batch  (None, 25, 25, 64)  192         ['conv2d_205[0][0]']             \n",
            " Normalization)                                                                                   \n",
            "                                                                                                  \n",
            " activation_205 (Activation)    (None, 25, 25, 64)   0           ['batch_normalization_203[0][0]']\n",
            "                                                                                                  \n",
            " conv2d_203 (Conv2D)            (None, 25, 25, 48)   12288       ['mixed0[0][0]']                 \n",
            "                                                                                                  \n",
            " conv2d_206 (Conv2D)            (None, 25, 25, 96)   55296       ['activation_205[0][0]']         \n",
            "                                                                                                  \n",
            " batch_normalization_201 (Batch  (None, 25, 25, 48)  144         ['conv2d_203[0][0]']             \n",
            " Normalization)                                                                                   \n",
            "                                                                                                  \n",
            " batch_normalization_204 (Batch  (None, 25, 25, 96)  288         ['conv2d_206[0][0]']             \n",
            " Normalization)                                                                                   \n",
            "                                                                                                  \n",
            " activation_203 (Activation)    (None, 25, 25, 48)   0           ['batch_normalization_201[0][0]']\n",
            "                                                                                                  \n",
            " activation_206 (Activation)    (None, 25, 25, 96)   0           ['batch_normalization_204[0][0]']\n",
            "                                                                                                  \n",
            " average_pooling2d_19 (AverageP  (None, 25, 25, 256)  0          ['mixed0[0][0]']                 \n",
            " ooling2D)                                                                                        \n",
            "                                                                                                  \n",
            " conv2d_202 (Conv2D)            (None, 25, 25, 64)   16384       ['mixed0[0][0]']                 \n",
            "                                                                                                  \n",
            " conv2d_204 (Conv2D)            (None, 25, 25, 64)   76800       ['activation_203[0][0]']         \n",
            "                                                                                                  \n",
            " conv2d_207 (Conv2D)            (None, 25, 25, 96)   82944       ['activation_206[0][0]']         \n",
            "                                                                                                  \n",
            " conv2d_208 (Conv2D)            (None, 25, 25, 64)   16384       ['average_pooling2d_19[0][0]']   \n",
            "                                                                                                  \n",
            " batch_normalization_200 (Batch  (None, 25, 25, 64)  192         ['conv2d_202[0][0]']             \n",
            " Normalization)                                                                                   \n",
            "                                                                                                  \n",
            " batch_normalization_202 (Batch  (None, 25, 25, 64)  192         ['conv2d_204[0][0]']             \n",
            " Normalization)                                                                                   \n",
            "                                                                                                  \n",
            " batch_normalization_205 (Batch  (None, 25, 25, 96)  288         ['conv2d_207[0][0]']             \n",
            " Normalization)                                                                                   \n",
            "                                                                                                  \n",
            " batch_normalization_206 (Batch  (None, 25, 25, 64)  192         ['conv2d_208[0][0]']             \n",
            " Normalization)                                                                                   \n",
            "                                                                                                  \n",
            " activation_202 (Activation)    (None, 25, 25, 64)   0           ['batch_normalization_200[0][0]']\n",
            "                                                                                                  \n",
            " activation_204 (Activation)    (None, 25, 25, 64)   0           ['batch_normalization_202[0][0]']\n",
            "                                                                                                  \n",
            " activation_207 (Activation)    (None, 25, 25, 96)   0           ['batch_normalization_205[0][0]']\n",
            "                                                                                                  \n",
            " activation_208 (Activation)    (None, 25, 25, 64)   0           ['batch_normalization_206[0][0]']\n",
            "                                                                                                  \n",
            " mixed1 (Concatenate)           (None, 25, 25, 288)  0           ['activation_202[0][0]',         \n",
            "                                                                  'activation_204[0][0]',         \n",
            "                                                                  'activation_207[0][0]',         \n",
            "                                                                  'activation_208[0][0]']         \n",
            "                                                                                                  \n",
            " conv2d_212 (Conv2D)            (None, 25, 25, 64)   18432       ['mixed1[0][0]']                 \n",
            "                                                                                                  \n",
            " batch_normalization_210 (Batch  (None, 25, 25, 64)  192         ['conv2d_212[0][0]']             \n",
            " Normalization)                                                                                   \n",
            "                                                                                                  \n",
            " activation_212 (Activation)    (None, 25, 25, 64)   0           ['batch_normalization_210[0][0]']\n",
            "                                                                                                  \n",
            " conv2d_210 (Conv2D)            (None, 25, 25, 48)   13824       ['mixed1[0][0]']                 \n",
            "                                                                                                  \n",
            " conv2d_213 (Conv2D)            (None, 25, 25, 96)   55296       ['activation_212[0][0]']         \n",
            "                                                                                                  \n",
            " batch_normalization_208 (Batch  (None, 25, 25, 48)  144         ['conv2d_210[0][0]']             \n",
            " Normalization)                                                                                   \n",
            "                                                                                                  \n",
            " batch_normalization_211 (Batch  (None, 25, 25, 96)  288         ['conv2d_213[0][0]']             \n",
            " Normalization)                                                                                   \n",
            "                                                                                                  \n",
            " activation_210 (Activation)    (None, 25, 25, 48)   0           ['batch_normalization_208[0][0]']\n",
            "                                                                                                  \n",
            " activation_213 (Activation)    (None, 25, 25, 96)   0           ['batch_normalization_211[0][0]']\n",
            "                                                                                                  \n",
            " average_pooling2d_20 (AverageP  (None, 25, 25, 288)  0          ['mixed1[0][0]']                 \n",
            " ooling2D)                                                                                        \n",
            "                                                                                                  \n",
            " conv2d_209 (Conv2D)            (None, 25, 25, 64)   18432       ['mixed1[0][0]']                 \n",
            "                                                                                                  \n",
            " conv2d_211 (Conv2D)            (None, 25, 25, 64)   76800       ['activation_210[0][0]']         \n",
            "                                                                                                  \n",
            " conv2d_214 (Conv2D)            (None, 25, 25, 96)   82944       ['activation_213[0][0]']         \n",
            "                                                                                                  \n",
            " conv2d_215 (Conv2D)            (None, 25, 25, 64)   18432       ['average_pooling2d_20[0][0]']   \n",
            "                                                                                                  \n",
            " batch_normalization_207 (Batch  (None, 25, 25, 64)  192         ['conv2d_209[0][0]']             \n",
            " Normalization)                                                                                   \n",
            "                                                                                                  \n",
            " batch_normalization_209 (Batch  (None, 25, 25, 64)  192         ['conv2d_211[0][0]']             \n",
            " Normalization)                                                                                   \n",
            "                                                                                                  \n",
            " batch_normalization_212 (Batch  (None, 25, 25, 96)  288         ['conv2d_214[0][0]']             \n",
            " Normalization)                                                                                   \n",
            "                                                                                                  \n",
            " batch_normalization_213 (Batch  (None, 25, 25, 64)  192         ['conv2d_215[0][0]']             \n",
            " Normalization)                                                                                   \n",
            "                                                                                                  \n",
            " activation_209 (Activation)    (None, 25, 25, 64)   0           ['batch_normalization_207[0][0]']\n",
            "                                                                                                  \n",
            " activation_211 (Activation)    (None, 25, 25, 64)   0           ['batch_normalization_209[0][0]']\n",
            "                                                                                                  \n",
            " activation_214 (Activation)    (None, 25, 25, 96)   0           ['batch_normalization_212[0][0]']\n",
            "                                                                                                  \n",
            " activation_215 (Activation)    (None, 25, 25, 64)   0           ['batch_normalization_213[0][0]']\n",
            "                                                                                                  \n",
            " mixed2 (Concatenate)           (None, 25, 25, 288)  0           ['activation_209[0][0]',         \n",
            "                                                                  'activation_211[0][0]',         \n",
            "                                                                  'activation_214[0][0]',         \n",
            "                                                                  'activation_215[0][0]']         \n",
            "                                                                                                  \n",
            " conv2d_217 (Conv2D)            (None, 25, 25, 64)   18432       ['mixed2[0][0]']                 \n",
            "                                                                                                  \n",
            " batch_normalization_215 (Batch  (None, 25, 25, 64)  192         ['conv2d_217[0][0]']             \n",
            " Normalization)                                                                                   \n",
            "                                                                                                  \n",
            " activation_217 (Activation)    (None, 25, 25, 64)   0           ['batch_normalization_215[0][0]']\n",
            "                                                                                                  \n",
            " conv2d_218 (Conv2D)            (None, 25, 25, 96)   55296       ['activation_217[0][0]']         \n",
            "                                                                                                  \n",
            " batch_normalization_216 (Batch  (None, 25, 25, 96)  288         ['conv2d_218[0][0]']             \n",
            " Normalization)                                                                                   \n",
            "                                                                                                  \n",
            " activation_218 (Activation)    (None, 25, 25, 96)   0           ['batch_normalization_216[0][0]']\n",
            "                                                                                                  \n",
            " conv2d_216 (Conv2D)            (None, 12, 12, 384)  995328      ['mixed2[0][0]']                 \n",
            "                                                                                                  \n",
            " conv2d_219 (Conv2D)            (None, 12, 12, 96)   82944       ['activation_218[0][0]']         \n",
            "                                                                                                  \n",
            " batch_normalization_214 (Batch  (None, 12, 12, 384)  1152       ['conv2d_216[0][0]']             \n",
            " Normalization)                                                                                   \n",
            "                                                                                                  \n",
            " batch_normalization_217 (Batch  (None, 12, 12, 96)  288         ['conv2d_219[0][0]']             \n",
            " Normalization)                                                                                   \n",
            "                                                                                                  \n",
            " activation_216 (Activation)    (None, 12, 12, 384)  0           ['batch_normalization_214[0][0]']\n",
            "                                                                                                  \n",
            " activation_219 (Activation)    (None, 12, 12, 96)   0           ['batch_normalization_217[0][0]']\n",
            "                                                                                                  \n",
            " max_pooling2d_12 (MaxPooling2D  (None, 12, 12, 288)  0          ['mixed2[0][0]']                 \n",
            " )                                                                                                \n",
            "                                                                                                  \n",
            " mixed3 (Concatenate)           (None, 12, 12, 768)  0           ['activation_216[0][0]',         \n",
            "                                                                  'activation_219[0][0]',         \n",
            "                                                                  'max_pooling2d_12[0][0]']       \n",
            "                                                                                                  \n",
            " conv2d_224 (Conv2D)            (None, 12, 12, 128)  98304       ['mixed3[0][0]']                 \n",
            "                                                                                                  \n",
            " batch_normalization_222 (Batch  (None, 12, 12, 128)  384        ['conv2d_224[0][0]']             \n",
            " Normalization)                                                                                   \n",
            "                                                                                                  \n",
            " activation_224 (Activation)    (None, 12, 12, 128)  0           ['batch_normalization_222[0][0]']\n",
            "                                                                                                  \n",
            " conv2d_225 (Conv2D)            (None, 12, 12, 128)  114688      ['activation_224[0][0]']         \n",
            "                                                                                                  \n",
            " batch_normalization_223 (Batch  (None, 12, 12, 128)  384        ['conv2d_225[0][0]']             \n",
            " Normalization)                                                                                   \n",
            "                                                                                                  \n",
            " activation_225 (Activation)    (None, 12, 12, 128)  0           ['batch_normalization_223[0][0]']\n",
            "                                                                                                  \n",
            " conv2d_221 (Conv2D)            (None, 12, 12, 128)  98304       ['mixed3[0][0]']                 \n",
            "                                                                                                  \n",
            " conv2d_226 (Conv2D)            (None, 12, 12, 128)  114688      ['activation_225[0][0]']         \n",
            "                                                                                                  \n",
            " batch_normalization_219 (Batch  (None, 12, 12, 128)  384        ['conv2d_221[0][0]']             \n",
            " Normalization)                                                                                   \n",
            "                                                                                                  \n",
            " batch_normalization_224 (Batch  (None, 12, 12, 128)  384        ['conv2d_226[0][0]']             \n",
            " Normalization)                                                                                   \n",
            "                                                                                                  \n",
            " activation_221 (Activation)    (None, 12, 12, 128)  0           ['batch_normalization_219[0][0]']\n",
            "                                                                                                  \n",
            " activation_226 (Activation)    (None, 12, 12, 128)  0           ['batch_normalization_224[0][0]']\n",
            "                                                                                                  \n",
            " conv2d_222 (Conv2D)            (None, 12, 12, 128)  114688      ['activation_221[0][0]']         \n",
            "                                                                                                  \n",
            " conv2d_227 (Conv2D)            (None, 12, 12, 128)  114688      ['activation_226[0][0]']         \n",
            "                                                                                                  \n",
            " batch_normalization_220 (Batch  (None, 12, 12, 128)  384        ['conv2d_222[0][0]']             \n",
            " Normalization)                                                                                   \n",
            "                                                                                                  \n",
            " batch_normalization_225 (Batch  (None, 12, 12, 128)  384        ['conv2d_227[0][0]']             \n",
            " Normalization)                                                                                   \n",
            "                                                                                                  \n",
            " activation_222 (Activation)    (None, 12, 12, 128)  0           ['batch_normalization_220[0][0]']\n",
            "                                                                                                  \n",
            " activation_227 (Activation)    (None, 12, 12, 128)  0           ['batch_normalization_225[0][0]']\n",
            "                                                                                                  \n",
            " average_pooling2d_21 (AverageP  (None, 12, 12, 768)  0          ['mixed3[0][0]']                 \n",
            " ooling2D)                                                                                        \n",
            "                                                                                                  \n",
            " conv2d_220 (Conv2D)            (None, 12, 12, 192)  147456      ['mixed3[0][0]']                 \n",
            "                                                                                                  \n",
            " conv2d_223 (Conv2D)            (None, 12, 12, 192)  172032      ['activation_222[0][0]']         \n",
            "                                                                                                  \n",
            " conv2d_228 (Conv2D)            (None, 12, 12, 192)  172032      ['activation_227[0][0]']         \n",
            "                                                                                                  \n",
            " conv2d_229 (Conv2D)            (None, 12, 12, 192)  147456      ['average_pooling2d_21[0][0]']   \n",
            "                                                                                                  \n",
            " batch_normalization_218 (Batch  (None, 12, 12, 192)  576        ['conv2d_220[0][0]']             \n",
            " Normalization)                                                                                   \n",
            "                                                                                                  \n",
            " batch_normalization_221 (Batch  (None, 12, 12, 192)  576        ['conv2d_223[0][0]']             \n",
            " Normalization)                                                                                   \n",
            "                                                                                                  \n",
            " batch_normalization_226 (Batch  (None, 12, 12, 192)  576        ['conv2d_228[0][0]']             \n",
            " Normalization)                                                                                   \n",
            "                                                                                                  \n",
            " batch_normalization_227 (Batch  (None, 12, 12, 192)  576        ['conv2d_229[0][0]']             \n",
            " Normalization)                                                                                   \n",
            "                                                                                                  \n",
            " activation_220 (Activation)    (None, 12, 12, 192)  0           ['batch_normalization_218[0][0]']\n",
            "                                                                                                  \n",
            " activation_223 (Activation)    (None, 12, 12, 192)  0           ['batch_normalization_221[0][0]']\n",
            "                                                                                                  \n",
            " activation_228 (Activation)    (None, 12, 12, 192)  0           ['batch_normalization_226[0][0]']\n",
            "                                                                                                  \n",
            " activation_229 (Activation)    (None, 12, 12, 192)  0           ['batch_normalization_227[0][0]']\n",
            "                                                                                                  \n",
            " mixed4 (Concatenate)           (None, 12, 12, 768)  0           ['activation_220[0][0]',         \n",
            "                                                                  'activation_223[0][0]',         \n",
            "                                                                  'activation_228[0][0]',         \n",
            "                                                                  'activation_229[0][0]']         \n",
            "                                                                                                  \n",
            " conv2d_234 (Conv2D)            (None, 12, 12, 160)  122880      ['mixed4[0][0]']                 \n",
            "                                                                                                  \n",
            " batch_normalization_232 (Batch  (None, 12, 12, 160)  480        ['conv2d_234[0][0]']             \n",
            " Normalization)                                                                                   \n",
            "                                                                                                  \n",
            " activation_234 (Activation)    (None, 12, 12, 160)  0           ['batch_normalization_232[0][0]']\n",
            "                                                                                                  \n",
            " conv2d_235 (Conv2D)            (None, 12, 12, 160)  179200      ['activation_234[0][0]']         \n",
            "                                                                                                  \n",
            " batch_normalization_233 (Batch  (None, 12, 12, 160)  480        ['conv2d_235[0][0]']             \n",
            " Normalization)                                                                                   \n",
            "                                                                                                  \n",
            " activation_235 (Activation)    (None, 12, 12, 160)  0           ['batch_normalization_233[0][0]']\n",
            "                                                                                                  \n",
            " conv2d_231 (Conv2D)            (None, 12, 12, 160)  122880      ['mixed4[0][0]']                 \n",
            "                                                                                                  \n",
            " conv2d_236 (Conv2D)            (None, 12, 12, 160)  179200      ['activation_235[0][0]']         \n",
            "                                                                                                  \n",
            " batch_normalization_229 (Batch  (None, 12, 12, 160)  480        ['conv2d_231[0][0]']             \n",
            " Normalization)                                                                                   \n",
            "                                                                                                  \n",
            " batch_normalization_234 (Batch  (None, 12, 12, 160)  480        ['conv2d_236[0][0]']             \n",
            " Normalization)                                                                                   \n",
            "                                                                                                  \n",
            " activation_231 (Activation)    (None, 12, 12, 160)  0           ['batch_normalization_229[0][0]']\n",
            "                                                                                                  \n",
            " activation_236 (Activation)    (None, 12, 12, 160)  0           ['batch_normalization_234[0][0]']\n",
            "                                                                                                  \n",
            " conv2d_232 (Conv2D)            (None, 12, 12, 160)  179200      ['activation_231[0][0]']         \n",
            "                                                                                                  \n",
            " conv2d_237 (Conv2D)            (None, 12, 12, 160)  179200      ['activation_236[0][0]']         \n",
            "                                                                                                  \n",
            " batch_normalization_230 (Batch  (None, 12, 12, 160)  480        ['conv2d_232[0][0]']             \n",
            " Normalization)                                                                                   \n",
            "                                                                                                  \n",
            " batch_normalization_235 (Batch  (None, 12, 12, 160)  480        ['conv2d_237[0][0]']             \n",
            " Normalization)                                                                                   \n",
            "                                                                                                  \n",
            " activation_232 (Activation)    (None, 12, 12, 160)  0           ['batch_normalization_230[0][0]']\n",
            "                                                                                                  \n",
            " activation_237 (Activation)    (None, 12, 12, 160)  0           ['batch_normalization_235[0][0]']\n",
            "                                                                                                  \n",
            " average_pooling2d_22 (AverageP  (None, 12, 12, 768)  0          ['mixed4[0][0]']                 \n",
            " ooling2D)                                                                                        \n",
            "                                                                                                  \n",
            " conv2d_230 (Conv2D)            (None, 12, 12, 192)  147456      ['mixed4[0][0]']                 \n",
            "                                                                                                  \n",
            " conv2d_233 (Conv2D)            (None, 12, 12, 192)  215040      ['activation_232[0][0]']         \n",
            "                                                                                                  \n",
            " conv2d_238 (Conv2D)            (None, 12, 12, 192)  215040      ['activation_237[0][0]']         \n",
            "                                                                                                  \n",
            " conv2d_239 (Conv2D)            (None, 12, 12, 192)  147456      ['average_pooling2d_22[0][0]']   \n",
            "                                                                                                  \n",
            " batch_normalization_228 (Batch  (None, 12, 12, 192)  576        ['conv2d_230[0][0]']             \n",
            " Normalization)                                                                                   \n",
            "                                                                                                  \n",
            " batch_normalization_231 (Batch  (None, 12, 12, 192)  576        ['conv2d_233[0][0]']             \n",
            " Normalization)                                                                                   \n",
            "                                                                                                  \n",
            " batch_normalization_236 (Batch  (None, 12, 12, 192)  576        ['conv2d_238[0][0]']             \n",
            " Normalization)                                                                                   \n",
            "                                                                                                  \n",
            " batch_normalization_237 (Batch  (None, 12, 12, 192)  576        ['conv2d_239[0][0]']             \n",
            " Normalization)                                                                                   \n",
            "                                                                                                  \n",
            " activation_230 (Activation)    (None, 12, 12, 192)  0           ['batch_normalization_228[0][0]']\n",
            "                                                                                                  \n",
            " activation_233 (Activation)    (None, 12, 12, 192)  0           ['batch_normalization_231[0][0]']\n",
            "                                                                                                  \n",
            " activation_238 (Activation)    (None, 12, 12, 192)  0           ['batch_normalization_236[0][0]']\n",
            "                                                                                                  \n",
            " activation_239 (Activation)    (None, 12, 12, 192)  0           ['batch_normalization_237[0][0]']\n",
            "                                                                                                  \n",
            " mixed5 (Concatenate)           (None, 12, 12, 768)  0           ['activation_230[0][0]',         \n",
            "                                                                  'activation_233[0][0]',         \n",
            "                                                                  'activation_238[0][0]',         \n",
            "                                                                  'activation_239[0][0]']         \n",
            "                                                                                                  \n",
            " conv2d_244 (Conv2D)            (None, 12, 12, 160)  122880      ['mixed5[0][0]']                 \n",
            "                                                                                                  \n",
            " batch_normalization_242 (Batch  (None, 12, 12, 160)  480        ['conv2d_244[0][0]']             \n",
            " Normalization)                                                                                   \n",
            "                                                                                                  \n",
            " activation_244 (Activation)    (None, 12, 12, 160)  0           ['batch_normalization_242[0][0]']\n",
            "                                                                                                  \n",
            " conv2d_245 (Conv2D)            (None, 12, 12, 160)  179200      ['activation_244[0][0]']         \n",
            "                                                                                                  \n",
            " batch_normalization_243 (Batch  (None, 12, 12, 160)  480        ['conv2d_245[0][0]']             \n",
            " Normalization)                                                                                   \n",
            "                                                                                                  \n",
            " activation_245 (Activation)    (None, 12, 12, 160)  0           ['batch_normalization_243[0][0]']\n",
            "                                                                                                  \n",
            " conv2d_241 (Conv2D)            (None, 12, 12, 160)  122880      ['mixed5[0][0]']                 \n",
            "                                                                                                  \n",
            " conv2d_246 (Conv2D)            (None, 12, 12, 160)  179200      ['activation_245[0][0]']         \n",
            "                                                                                                  \n",
            " batch_normalization_239 (Batch  (None, 12, 12, 160)  480        ['conv2d_241[0][0]']             \n",
            " Normalization)                                                                                   \n",
            "                                                                                                  \n",
            " batch_normalization_244 (Batch  (None, 12, 12, 160)  480        ['conv2d_246[0][0]']             \n",
            " Normalization)                                                                                   \n",
            "                                                                                                  \n",
            " activation_241 (Activation)    (None, 12, 12, 160)  0           ['batch_normalization_239[0][0]']\n",
            "                                                                                                  \n",
            " activation_246 (Activation)    (None, 12, 12, 160)  0           ['batch_normalization_244[0][0]']\n",
            "                                                                                                  \n",
            " conv2d_242 (Conv2D)            (None, 12, 12, 160)  179200      ['activation_241[0][0]']         \n",
            "                                                                                                  \n",
            " conv2d_247 (Conv2D)            (None, 12, 12, 160)  179200      ['activation_246[0][0]']         \n",
            "                                                                                                  \n",
            " batch_normalization_240 (Batch  (None, 12, 12, 160)  480        ['conv2d_242[0][0]']             \n",
            " Normalization)                                                                                   \n",
            "                                                                                                  \n",
            " batch_normalization_245 (Batch  (None, 12, 12, 160)  480        ['conv2d_247[0][0]']             \n",
            " Normalization)                                                                                   \n",
            "                                                                                                  \n",
            " activation_242 (Activation)    (None, 12, 12, 160)  0           ['batch_normalization_240[0][0]']\n",
            "                                                                                                  \n",
            " activation_247 (Activation)    (None, 12, 12, 160)  0           ['batch_normalization_245[0][0]']\n",
            "                                                                                                  \n",
            " average_pooling2d_23 (AverageP  (None, 12, 12, 768)  0          ['mixed5[0][0]']                 \n",
            " ooling2D)                                                                                        \n",
            "                                                                                                  \n",
            " conv2d_240 (Conv2D)            (None, 12, 12, 192)  147456      ['mixed5[0][0]']                 \n",
            "                                                                                                  \n",
            " conv2d_243 (Conv2D)            (None, 12, 12, 192)  215040      ['activation_242[0][0]']         \n",
            "                                                                                                  \n",
            " conv2d_248 (Conv2D)            (None, 12, 12, 192)  215040      ['activation_247[0][0]']         \n",
            "                                                                                                  \n",
            " conv2d_249 (Conv2D)            (None, 12, 12, 192)  147456      ['average_pooling2d_23[0][0]']   \n",
            "                                                                                                  \n",
            " batch_normalization_238 (Batch  (None, 12, 12, 192)  576        ['conv2d_240[0][0]']             \n",
            " Normalization)                                                                                   \n",
            "                                                                                                  \n",
            " batch_normalization_241 (Batch  (None, 12, 12, 192)  576        ['conv2d_243[0][0]']             \n",
            " Normalization)                                                                                   \n",
            "                                                                                                  \n",
            " batch_normalization_246 (Batch  (None, 12, 12, 192)  576        ['conv2d_248[0][0]']             \n",
            " Normalization)                                                                                   \n",
            "                                                                                                  \n",
            " batch_normalization_247 (Batch  (None, 12, 12, 192)  576        ['conv2d_249[0][0]']             \n",
            " Normalization)                                                                                   \n",
            "                                                                                                  \n",
            " activation_240 (Activation)    (None, 12, 12, 192)  0           ['batch_normalization_238[0][0]']\n",
            "                                                                                                  \n",
            " activation_243 (Activation)    (None, 12, 12, 192)  0           ['batch_normalization_241[0][0]']\n",
            "                                                                                                  \n",
            " activation_248 (Activation)    (None, 12, 12, 192)  0           ['batch_normalization_246[0][0]']\n",
            "                                                                                                  \n",
            " activation_249 (Activation)    (None, 12, 12, 192)  0           ['batch_normalization_247[0][0]']\n",
            "                                                                                                  \n",
            " mixed6 (Concatenate)           (None, 12, 12, 768)  0           ['activation_240[0][0]',         \n",
            "                                                                  'activation_243[0][0]',         \n",
            "                                                                  'activation_248[0][0]',         \n",
            "                                                                  'activation_249[0][0]']         \n",
            "                                                                                                  \n",
            " conv2d_254 (Conv2D)            (None, 12, 12, 192)  147456      ['mixed6[0][0]']                 \n",
            "                                                                                                  \n",
            " batch_normalization_252 (Batch  (None, 12, 12, 192)  576        ['conv2d_254[0][0]']             \n",
            " Normalization)                                                                                   \n",
            "                                                                                                  \n",
            " activation_254 (Activation)    (None, 12, 12, 192)  0           ['batch_normalization_252[0][0]']\n",
            "                                                                                                  \n",
            " conv2d_255 (Conv2D)            (None, 12, 12, 192)  258048      ['activation_254[0][0]']         \n",
            "                                                                                                  \n",
            " batch_normalization_253 (Batch  (None, 12, 12, 192)  576        ['conv2d_255[0][0]']             \n",
            " Normalization)                                                                                   \n",
            "                                                                                                  \n",
            " activation_255 (Activation)    (None, 12, 12, 192)  0           ['batch_normalization_253[0][0]']\n",
            "                                                                                                  \n",
            " conv2d_251 (Conv2D)            (None, 12, 12, 192)  147456      ['mixed6[0][0]']                 \n",
            "                                                                                                  \n",
            " conv2d_256 (Conv2D)            (None, 12, 12, 192)  258048      ['activation_255[0][0]']         \n",
            "                                                                                                  \n",
            " batch_normalization_249 (Batch  (None, 12, 12, 192)  576        ['conv2d_251[0][0]']             \n",
            " Normalization)                                                                                   \n",
            "                                                                                                  \n",
            " batch_normalization_254 (Batch  (None, 12, 12, 192)  576        ['conv2d_256[0][0]']             \n",
            " Normalization)                                                                                   \n",
            "                                                                                                  \n",
            " activation_251 (Activation)    (None, 12, 12, 192)  0           ['batch_normalization_249[0][0]']\n",
            "                                                                                                  \n",
            " activation_256 (Activation)    (None, 12, 12, 192)  0           ['batch_normalization_254[0][0]']\n",
            "                                                                                                  \n",
            " conv2d_252 (Conv2D)            (None, 12, 12, 192)  258048      ['activation_251[0][0]']         \n",
            "                                                                                                  \n",
            " conv2d_257 (Conv2D)            (None, 12, 12, 192)  258048      ['activation_256[0][0]']         \n",
            "                                                                                                  \n",
            " batch_normalization_250 (Batch  (None, 12, 12, 192)  576        ['conv2d_252[0][0]']             \n",
            " Normalization)                                                                                   \n",
            "                                                                                                  \n",
            " batch_normalization_255 (Batch  (None, 12, 12, 192)  576        ['conv2d_257[0][0]']             \n",
            " Normalization)                                                                                   \n",
            "                                                                                                  \n",
            " activation_252 (Activation)    (None, 12, 12, 192)  0           ['batch_normalization_250[0][0]']\n",
            "                                                                                                  \n",
            " activation_257 (Activation)    (None, 12, 12, 192)  0           ['batch_normalization_255[0][0]']\n",
            "                                                                                                  \n",
            " average_pooling2d_24 (AverageP  (None, 12, 12, 768)  0          ['mixed6[0][0]']                 \n",
            " ooling2D)                                                                                        \n",
            "                                                                                                  \n",
            " conv2d_250 (Conv2D)            (None, 12, 12, 192)  147456      ['mixed6[0][0]']                 \n",
            "                                                                                                  \n",
            " conv2d_253 (Conv2D)            (None, 12, 12, 192)  258048      ['activation_252[0][0]']         \n",
            "                                                                                                  \n",
            " conv2d_258 (Conv2D)            (None, 12, 12, 192)  258048      ['activation_257[0][0]']         \n",
            "                                                                                                  \n",
            " conv2d_259 (Conv2D)            (None, 12, 12, 192)  147456      ['average_pooling2d_24[0][0]']   \n",
            "                                                                                                  \n",
            " batch_normalization_248 (Batch  (None, 12, 12, 192)  576        ['conv2d_250[0][0]']             \n",
            " Normalization)                                                                                   \n",
            "                                                                                                  \n",
            " batch_normalization_251 (Batch  (None, 12, 12, 192)  576        ['conv2d_253[0][0]']             \n",
            " Normalization)                                                                                   \n",
            "                                                                                                  \n",
            " batch_normalization_256 (Batch  (None, 12, 12, 192)  576        ['conv2d_258[0][0]']             \n",
            " Normalization)                                                                                   \n",
            "                                                                                                  \n",
            " batch_normalization_257 (Batch  (None, 12, 12, 192)  576        ['conv2d_259[0][0]']             \n",
            " Normalization)                                                                                   \n",
            "                                                                                                  \n",
            " activation_250 (Activation)    (None, 12, 12, 192)  0           ['batch_normalization_248[0][0]']\n",
            "                                                                                                  \n",
            " activation_253 (Activation)    (None, 12, 12, 192)  0           ['batch_normalization_251[0][0]']\n",
            "                                                                                                  \n",
            " activation_258 (Activation)    (None, 12, 12, 192)  0           ['batch_normalization_256[0][0]']\n",
            "                                                                                                  \n",
            " activation_259 (Activation)    (None, 12, 12, 192)  0           ['batch_normalization_257[0][0]']\n",
            "                                                                                                  \n",
            " mixed7 (Concatenate)           (None, 12, 12, 768)  0           ['activation_250[0][0]',         \n",
            "                                                                  'activation_253[0][0]',         \n",
            "                                                                  'activation_258[0][0]',         \n",
            "                                                                  'activation_259[0][0]']         \n",
            "                                                                                                  \n",
            " conv2d_262 (Conv2D)            (None, 12, 12, 192)  147456      ['mixed7[0][0]']                 \n",
            "                                                                                                  \n",
            " batch_normalization_260 (Batch  (None, 12, 12, 192)  576        ['conv2d_262[0][0]']             \n",
            " Normalization)                                                                                   \n",
            "                                                                                                  \n",
            " activation_262 (Activation)    (None, 12, 12, 192)  0           ['batch_normalization_260[0][0]']\n",
            "                                                                                                  \n",
            " conv2d_263 (Conv2D)            (None, 12, 12, 192)  258048      ['activation_262[0][0]']         \n",
            "                                                                                                  \n",
            " batch_normalization_261 (Batch  (None, 12, 12, 192)  576        ['conv2d_263[0][0]']             \n",
            " Normalization)                                                                                   \n",
            "                                                                                                  \n",
            " activation_263 (Activation)    (None, 12, 12, 192)  0           ['batch_normalization_261[0][0]']\n",
            "                                                                                                  \n",
            " conv2d_260 (Conv2D)            (None, 12, 12, 192)  147456      ['mixed7[0][0]']                 \n",
            "                                                                                                  \n",
            " conv2d_264 (Conv2D)            (None, 12, 12, 192)  258048      ['activation_263[0][0]']         \n",
            "                                                                                                  \n",
            " batch_normalization_258 (Batch  (None, 12, 12, 192)  576        ['conv2d_260[0][0]']             \n",
            " Normalization)                                                                                   \n",
            "                                                                                                  \n",
            " batch_normalization_262 (Batch  (None, 12, 12, 192)  576        ['conv2d_264[0][0]']             \n",
            " Normalization)                                                                                   \n",
            "                                                                                                  \n",
            " activation_260 (Activation)    (None, 12, 12, 192)  0           ['batch_normalization_258[0][0]']\n",
            "                                                                                                  \n",
            " activation_264 (Activation)    (None, 12, 12, 192)  0           ['batch_normalization_262[0][0]']\n",
            "                                                                                                  \n",
            " conv2d_261 (Conv2D)            (None, 5, 5, 320)    552960      ['activation_260[0][0]']         \n",
            "                                                                                                  \n",
            " conv2d_265 (Conv2D)            (None, 5, 5, 192)    331776      ['activation_264[0][0]']         \n",
            "                                                                                                  \n",
            " batch_normalization_259 (Batch  (None, 5, 5, 320)   960         ['conv2d_261[0][0]']             \n",
            " Normalization)                                                                                   \n",
            "                                                                                                  \n",
            " batch_normalization_263 (Batch  (None, 5, 5, 192)   576         ['conv2d_265[0][0]']             \n",
            " Normalization)                                                                                   \n",
            "                                                                                                  \n",
            " activation_261 (Activation)    (None, 5, 5, 320)    0           ['batch_normalization_259[0][0]']\n",
            "                                                                                                  \n",
            " activation_265 (Activation)    (None, 5, 5, 192)    0           ['batch_normalization_263[0][0]']\n",
            "                                                                                                  \n",
            " max_pooling2d_13 (MaxPooling2D  (None, 5, 5, 768)   0           ['mixed7[0][0]']                 \n",
            " )                                                                                                \n",
            "                                                                                                  \n",
            " mixed8 (Concatenate)           (None, 5, 5, 1280)   0           ['activation_261[0][0]',         \n",
            "                                                                  'activation_265[0][0]',         \n",
            "                                                                  'max_pooling2d_13[0][0]']       \n",
            "                                                                                                  \n",
            " conv2d_270 (Conv2D)            (None, 5, 5, 448)    573440      ['mixed8[0][0]']                 \n",
            "                                                                                                  \n",
            " batch_normalization_268 (Batch  (None, 5, 5, 448)   1344        ['conv2d_270[0][0]']             \n",
            " Normalization)                                                                                   \n",
            "                                                                                                  \n",
            " activation_270 (Activation)    (None, 5, 5, 448)    0           ['batch_normalization_268[0][0]']\n",
            "                                                                                                  \n",
            " conv2d_267 (Conv2D)            (None, 5, 5, 384)    491520      ['mixed8[0][0]']                 \n",
            "                                                                                                  \n",
            " conv2d_271 (Conv2D)            (None, 5, 5, 384)    1548288     ['activation_270[0][0]']         \n",
            "                                                                                                  \n",
            " batch_normalization_265 (Batch  (None, 5, 5, 384)   1152        ['conv2d_267[0][0]']             \n",
            " Normalization)                                                                                   \n",
            "                                                                                                  \n",
            " batch_normalization_269 (Batch  (None, 5, 5, 384)   1152        ['conv2d_271[0][0]']             \n",
            " Normalization)                                                                                   \n",
            "                                                                                                  \n",
            " activation_267 (Activation)    (None, 5, 5, 384)    0           ['batch_normalization_265[0][0]']\n",
            "                                                                                                  \n",
            " activation_271 (Activation)    (None, 5, 5, 384)    0           ['batch_normalization_269[0][0]']\n",
            "                                                                                                  \n",
            " conv2d_268 (Conv2D)            (None, 5, 5, 384)    442368      ['activation_267[0][0]']         \n",
            "                                                                                                  \n",
            " conv2d_269 (Conv2D)            (None, 5, 5, 384)    442368      ['activation_267[0][0]']         \n",
            "                                                                                                  \n",
            " conv2d_272 (Conv2D)            (None, 5, 5, 384)    442368      ['activation_271[0][0]']         \n",
            "                                                                                                  \n",
            " conv2d_273 (Conv2D)            (None, 5, 5, 384)    442368      ['activation_271[0][0]']         \n",
            "                                                                                                  \n",
            " average_pooling2d_25 (AverageP  (None, 5, 5, 1280)  0           ['mixed8[0][0]']                 \n",
            " ooling2D)                                                                                        \n",
            "                                                                                                  \n",
            " conv2d_266 (Conv2D)            (None, 5, 5, 320)    409600      ['mixed8[0][0]']                 \n",
            "                                                                                                  \n",
            " batch_normalization_266 (Batch  (None, 5, 5, 384)   1152        ['conv2d_268[0][0]']             \n",
            " Normalization)                                                                                   \n",
            "                                                                                                  \n",
            " batch_normalization_267 (Batch  (None, 5, 5, 384)   1152        ['conv2d_269[0][0]']             \n",
            " Normalization)                                                                                   \n",
            "                                                                                                  \n",
            " batch_normalization_270 (Batch  (None, 5, 5, 384)   1152        ['conv2d_272[0][0]']             \n",
            " Normalization)                                                                                   \n",
            "                                                                                                  \n",
            " batch_normalization_271 (Batch  (None, 5, 5, 384)   1152        ['conv2d_273[0][0]']             \n",
            " Normalization)                                                                                   \n",
            "                                                                                                  \n",
            " conv2d_274 (Conv2D)            (None, 5, 5, 192)    245760      ['average_pooling2d_25[0][0]']   \n",
            "                                                                                                  \n",
            " batch_normalization_264 (Batch  (None, 5, 5, 320)   960         ['conv2d_266[0][0]']             \n",
            " Normalization)                                                                                   \n",
            "                                                                                                  \n",
            " activation_268 (Activation)    (None, 5, 5, 384)    0           ['batch_normalization_266[0][0]']\n",
            "                                                                                                  \n",
            " activation_269 (Activation)    (None, 5, 5, 384)    0           ['batch_normalization_267[0][0]']\n",
            "                                                                                                  \n",
            " activation_272 (Activation)    (None, 5, 5, 384)    0           ['batch_normalization_270[0][0]']\n",
            "                                                                                                  \n",
            " activation_273 (Activation)    (None, 5, 5, 384)    0           ['batch_normalization_271[0][0]']\n",
            "                                                                                                  \n",
            " batch_normalization_272 (Batch  (None, 5, 5, 192)   576         ['conv2d_274[0][0]']             \n",
            " Normalization)                                                                                   \n",
            "                                                                                                  \n",
            " activation_266 (Activation)    (None, 5, 5, 320)    0           ['batch_normalization_264[0][0]']\n",
            "                                                                                                  \n",
            " mixed9_0 (Concatenate)         (None, 5, 5, 768)    0           ['activation_268[0][0]',         \n",
            "                                                                  'activation_269[0][0]']         \n",
            "                                                                                                  \n",
            " concatenate_4 (Concatenate)    (None, 5, 5, 768)    0           ['activation_272[0][0]',         \n",
            "                                                                  'activation_273[0][0]']         \n",
            "                                                                                                  \n",
            " activation_274 (Activation)    (None, 5, 5, 192)    0           ['batch_normalization_272[0][0]']\n",
            "                                                                                                  \n",
            " mixed9 (Concatenate)           (None, 5, 5, 2048)   0           ['activation_266[0][0]',         \n",
            "                                                                  'mixed9_0[0][0]',               \n",
            "                                                                  'concatenate_4[0][0]',          \n",
            "                                                                  'activation_274[0][0]']         \n",
            "                                                                                                  \n",
            " conv2d_279 (Conv2D)            (None, 5, 5, 448)    917504      ['mixed9[0][0]']                 \n",
            "                                                                                                  \n",
            " batch_normalization_277 (Batch  (None, 5, 5, 448)   1344        ['conv2d_279[0][0]']             \n",
            " Normalization)                                                                                   \n",
            "                                                                                                  \n",
            " activation_279 (Activation)    (None, 5, 5, 448)    0           ['batch_normalization_277[0][0]']\n",
            "                                                                                                  \n",
            " conv2d_276 (Conv2D)            (None, 5, 5, 384)    786432      ['mixed9[0][0]']                 \n",
            "                                                                                                  \n",
            " conv2d_280 (Conv2D)            (None, 5, 5, 384)    1548288     ['activation_279[0][0]']         \n",
            "                                                                                                  \n",
            " batch_normalization_274 (Batch  (None, 5, 5, 384)   1152        ['conv2d_276[0][0]']             \n",
            " Normalization)                                                                                   \n",
            "                                                                                                  \n",
            " batch_normalization_278 (Batch  (None, 5, 5, 384)   1152        ['conv2d_280[0][0]']             \n",
            " Normalization)                                                                                   \n",
            "                                                                                                  \n",
            " activation_276 (Activation)    (None, 5, 5, 384)    0           ['batch_normalization_274[0][0]']\n",
            "                                                                                                  \n",
            " activation_280 (Activation)    (None, 5, 5, 384)    0           ['batch_normalization_278[0][0]']\n",
            "                                                                                                  \n",
            " conv2d_277 (Conv2D)            (None, 5, 5, 384)    442368      ['activation_276[0][0]']         \n",
            "                                                                                                  \n",
            " conv2d_278 (Conv2D)            (None, 5, 5, 384)    442368      ['activation_276[0][0]']         \n",
            "                                                                                                  \n",
            " conv2d_281 (Conv2D)            (None, 5, 5, 384)    442368      ['activation_280[0][0]']         \n",
            "                                                                                                  \n",
            " conv2d_282 (Conv2D)            (None, 5, 5, 384)    442368      ['activation_280[0][0]']         \n",
            "                                                                                                  \n",
            " average_pooling2d_26 (AverageP  (None, 5, 5, 2048)  0           ['mixed9[0][0]']                 \n",
            " ooling2D)                                                                                        \n",
            "                                                                                                  \n",
            " conv2d_275 (Conv2D)            (None, 5, 5, 320)    655360      ['mixed9[0][0]']                 \n",
            "                                                                                                  \n",
            " batch_normalization_275 (Batch  (None, 5, 5, 384)   1152        ['conv2d_277[0][0]']             \n",
            " Normalization)                                                                                   \n",
            "                                                                                                  \n",
            " batch_normalization_276 (Batch  (None, 5, 5, 384)   1152        ['conv2d_278[0][0]']             \n",
            " Normalization)                                                                                   \n",
            "                                                                                                  \n",
            " batch_normalization_279 (Batch  (None, 5, 5, 384)   1152        ['conv2d_281[0][0]']             \n",
            " Normalization)                                                                                   \n",
            "                                                                                                  \n",
            " batch_normalization_280 (Batch  (None, 5, 5, 384)   1152        ['conv2d_282[0][0]']             \n",
            " Normalization)                                                                                   \n",
            "                                                                                                  \n",
            " conv2d_283 (Conv2D)            (None, 5, 5, 192)    393216      ['average_pooling2d_26[0][0]']   \n",
            "                                                                                                  \n",
            " batch_normalization_273 (Batch  (None, 5, 5, 320)   960         ['conv2d_275[0][0]']             \n",
            " Normalization)                                                                                   \n",
            "                                                                                                  \n",
            " activation_277 (Activation)    (None, 5, 5, 384)    0           ['batch_normalization_275[0][0]']\n",
            "                                                                                                  \n",
            " activation_278 (Activation)    (None, 5, 5, 384)    0           ['batch_normalization_276[0][0]']\n",
            "                                                                                                  \n",
            " activation_281 (Activation)    (None, 5, 5, 384)    0           ['batch_normalization_279[0][0]']\n",
            "                                                                                                  \n",
            " activation_282 (Activation)    (None, 5, 5, 384)    0           ['batch_normalization_280[0][0]']\n",
            "                                                                                                  \n",
            " batch_normalization_281 (Batch  (None, 5, 5, 192)   576         ['conv2d_283[0][0]']             \n",
            " Normalization)                                                                                   \n",
            "                                                                                                  \n",
            " activation_275 (Activation)    (None, 5, 5, 320)    0           ['batch_normalization_273[0][0]']\n",
            "                                                                                                  \n",
            " mixed9_1 (Concatenate)         (None, 5, 5, 768)    0           ['activation_277[0][0]',         \n",
            "                                                                  'activation_278[0][0]']         \n",
            "                                                                                                  \n",
            " concatenate_5 (Concatenate)    (None, 5, 5, 768)    0           ['activation_281[0][0]',         \n",
            "                                                                  'activation_282[0][0]']         \n",
            "                                                                                                  \n",
            " activation_283 (Activation)    (None, 5, 5, 192)    0           ['batch_normalization_281[0][0]']\n",
            "                                                                                                  \n",
            " mixed10 (Concatenate)          (None, 5, 5, 2048)   0           ['activation_275[0][0]',         \n",
            "                                                                  'mixed9_1[0][0]',               \n",
            "                                                                  'concatenate_5[0][0]',          \n",
            "                                                                  'activation_283[0][0]']         \n",
            "                                                                                                  \n",
            " flatten (Flatten)              (None, 51200)        0           ['mixed10[0][0]']                \n",
            "                                                                                                  \n",
            " dropout_2 (Dropout)            (None, 51200)        0           ['flatten[0][0]']                \n",
            "                                                                                                  \n",
            " dense_3 (Dense)                (None, 2)            102402      ['dropout_2[0][0]']              \n",
            "                                                                                                  \n",
            "==================================================================================================\n",
            "Total params: 21,905,186\n",
            "Trainable params: 102,402\n",
            "Non-trainable params: 21,802,784\n",
            "__________________________________________________________________________________________________\n"
          ]
        }
      ]
    },
    {
      "cell_type": "code",
      "metadata": {
        "id": "G2xWSOube_hj"
      },
      "source": [
        "from sklearn.model_selection import train_test_split\n",
        "\n",
        "train_data,test_data,train_target,test_target=train_test_split(data,target,test_size=0.1)"
      ],
      "execution_count": null,
      "outputs": []
    },
    {
      "cell_type": "code",
      "metadata": {
        "id": "VWCCsSY4yH5a"
      },
      "source": [
        "train_data1,test_data1,train_target1,test_target1=train_test_split(data,target,test_size=0.4)"
      ],
      "execution_count": null,
      "outputs": []
    },
    {
      "cell_type": "code",
      "metadata": {
        "id": "9m_0w4yGyIPA"
      },
      "source": [
        "train_data2,test_data2,train_target2,test_target2=train_test_split(data,target,test_size=0.3)"
      ],
      "execution_count": null,
      "outputs": []
    },
    {
      "cell_type": "code",
      "metadata": {
        "id": "iixtdDm-yU9z"
      },
      "source": [
        "train_data3,test_data3,train_target3,test_target3=train_test_split(data,target,test_size=0.2)"
      ],
      "execution_count": null,
      "outputs": []
    },
    {
      "cell_type": "code",
      "metadata": {
        "id": "SUQXC4eVfCqd",
        "colab": {
          "base_uri": "https://localhost:8080/",
          "height": 783
        },
        "outputId": "3ab7b625-651b-4624-d908-3f1c7e03e9ff"
      },
      "source": [
        "checkpoint = ModelCheckpoint('model-{epoch:03d}.model',monitor='val_loss',verbose=0,save_best_only=True,mode='auto')\n",
        "history=model.fit(train_data,train_target,epochs=20,callbacks=[checkpoint],validation_split=0.2)"
      ],
      "execution_count": null,
      "outputs": [
        {
          "output_type": "stream",
          "name": "stdout",
          "text": [
            "Epoch 1/20\n",
            "WARNING:tensorflow:Model was constructed with shape (None, 224, 224, 3) for input KerasTensor(type_spec=TensorSpec(shape=(None, 224, 224, 3), dtype=tf.float32, name='input_3'), name='input_3', description=\"created by layer 'input_3'\"), but it was called on an input with incompatible shape (None, 224, 224, 1).\n"
          ]
        },
        {
          "output_type": "error",
          "ename": "ValueError",
          "evalue": "ignored",
          "traceback": [
            "\u001b[0;31m---------------------------------------------------------------------------\u001b[0m",
            "\u001b[0;31mValueError\u001b[0m                                Traceback (most recent call last)",
            "\u001b[0;32m<ipython-input-38-7034eafc82cf>\u001b[0m in \u001b[0;36m<module>\u001b[0;34m()\u001b[0m\n\u001b[1;32m      1\u001b[0m \u001b[0mcheckpoint\u001b[0m \u001b[0;34m=\u001b[0m \u001b[0mModelCheckpoint\u001b[0m\u001b[0;34m(\u001b[0m\u001b[0;34m'model-{epoch:03d}.model'\u001b[0m\u001b[0;34m,\u001b[0m\u001b[0mmonitor\u001b[0m\u001b[0;34m=\u001b[0m\u001b[0;34m'val_loss'\u001b[0m\u001b[0;34m,\u001b[0m\u001b[0mverbose\u001b[0m\u001b[0;34m=\u001b[0m\u001b[0;36m0\u001b[0m\u001b[0;34m,\u001b[0m\u001b[0msave_best_only\u001b[0m\u001b[0;34m=\u001b[0m\u001b[0;32mTrue\u001b[0m\u001b[0;34m,\u001b[0m\u001b[0mmode\u001b[0m\u001b[0;34m=\u001b[0m\u001b[0;34m'auto'\u001b[0m\u001b[0;34m)\u001b[0m\u001b[0;34m\u001b[0m\u001b[0;34m\u001b[0m\u001b[0m\n\u001b[0;32m----> 2\u001b[0;31m \u001b[0mhistory\u001b[0m\u001b[0;34m=\u001b[0m\u001b[0mmodel\u001b[0m\u001b[0;34m.\u001b[0m\u001b[0mfit\u001b[0m\u001b[0;34m(\u001b[0m\u001b[0mtrain_data\u001b[0m\u001b[0;34m,\u001b[0m\u001b[0mtrain_target\u001b[0m\u001b[0;34m,\u001b[0m\u001b[0mepochs\u001b[0m\u001b[0;34m=\u001b[0m\u001b[0;36m20\u001b[0m\u001b[0;34m,\u001b[0m\u001b[0mcallbacks\u001b[0m\u001b[0;34m=\u001b[0m\u001b[0;34m[\u001b[0m\u001b[0mcheckpoint\u001b[0m\u001b[0;34m]\u001b[0m\u001b[0;34m,\u001b[0m\u001b[0mvalidation_split\u001b[0m\u001b[0;34m=\u001b[0m\u001b[0;36m0.2\u001b[0m\u001b[0;34m)\u001b[0m\u001b[0;34m\u001b[0m\u001b[0;34m\u001b[0m\u001b[0m\n\u001b[0m",
            "\u001b[0;32m/usr/local/lib/python3.7/dist-packages/keras/utils/traceback_utils.py\u001b[0m in \u001b[0;36merror_handler\u001b[0;34m(*args, **kwargs)\u001b[0m\n\u001b[1;32m     65\u001b[0m     \u001b[0;32mexcept\u001b[0m \u001b[0mException\u001b[0m \u001b[0;32mas\u001b[0m \u001b[0me\u001b[0m\u001b[0;34m:\u001b[0m  \u001b[0;31m# pylint: disable=broad-except\u001b[0m\u001b[0;34m\u001b[0m\u001b[0;34m\u001b[0m\u001b[0m\n\u001b[1;32m     66\u001b[0m       \u001b[0mfiltered_tb\u001b[0m \u001b[0;34m=\u001b[0m \u001b[0m_process_traceback_frames\u001b[0m\u001b[0;34m(\u001b[0m\u001b[0me\u001b[0m\u001b[0;34m.\u001b[0m\u001b[0m__traceback__\u001b[0m\u001b[0;34m)\u001b[0m\u001b[0;34m\u001b[0m\u001b[0;34m\u001b[0m\u001b[0m\n\u001b[0;32m---> 67\u001b[0;31m       \u001b[0;32mraise\u001b[0m \u001b[0me\u001b[0m\u001b[0;34m.\u001b[0m\u001b[0mwith_traceback\u001b[0m\u001b[0;34m(\u001b[0m\u001b[0mfiltered_tb\u001b[0m\u001b[0;34m)\u001b[0m \u001b[0;32mfrom\u001b[0m \u001b[0;32mNone\u001b[0m\u001b[0;34m\u001b[0m\u001b[0;34m\u001b[0m\u001b[0m\n\u001b[0m\u001b[1;32m     68\u001b[0m     \u001b[0;32mfinally\u001b[0m\u001b[0;34m:\u001b[0m\u001b[0;34m\u001b[0m\u001b[0;34m\u001b[0m\u001b[0m\n\u001b[1;32m     69\u001b[0m       \u001b[0;32mdel\u001b[0m \u001b[0mfiltered_tb\u001b[0m\u001b[0;34m\u001b[0m\u001b[0;34m\u001b[0m\u001b[0m\n",
            "\u001b[0;32m/usr/local/lib/python3.7/dist-packages/tensorflow/python/framework/func_graph.py\u001b[0m in \u001b[0;36mautograph_handler\u001b[0;34m(*args, **kwargs)\u001b[0m\n\u001b[1;32m   1145\u001b[0m           \u001b[0;32mexcept\u001b[0m \u001b[0mException\u001b[0m \u001b[0;32mas\u001b[0m \u001b[0me\u001b[0m\u001b[0;34m:\u001b[0m  \u001b[0;31m# pylint:disable=broad-except\u001b[0m\u001b[0;34m\u001b[0m\u001b[0;34m\u001b[0m\u001b[0m\n\u001b[1;32m   1146\u001b[0m             \u001b[0;32mif\u001b[0m \u001b[0mhasattr\u001b[0m\u001b[0;34m(\u001b[0m\u001b[0me\u001b[0m\u001b[0;34m,\u001b[0m \u001b[0;34m\"ag_error_metadata\"\u001b[0m\u001b[0;34m)\u001b[0m\u001b[0;34m:\u001b[0m\u001b[0;34m\u001b[0m\u001b[0;34m\u001b[0m\u001b[0m\n\u001b[0;32m-> 1147\u001b[0;31m               \u001b[0;32mraise\u001b[0m \u001b[0me\u001b[0m\u001b[0;34m.\u001b[0m\u001b[0mag_error_metadata\u001b[0m\u001b[0;34m.\u001b[0m\u001b[0mto_exception\u001b[0m\u001b[0;34m(\u001b[0m\u001b[0me\u001b[0m\u001b[0;34m)\u001b[0m\u001b[0;34m\u001b[0m\u001b[0;34m\u001b[0m\u001b[0m\n\u001b[0m\u001b[1;32m   1148\u001b[0m             \u001b[0;32melse\u001b[0m\u001b[0;34m:\u001b[0m\u001b[0;34m\u001b[0m\u001b[0;34m\u001b[0m\u001b[0m\n\u001b[1;32m   1149\u001b[0m               \u001b[0;32mraise\u001b[0m\u001b[0;34m\u001b[0m\u001b[0;34m\u001b[0m\u001b[0m\n",
            "\u001b[0;31mValueError\u001b[0m: in user code:\n\n    File \"/usr/local/lib/python3.7/dist-packages/keras/engine/training.py\", line 1021, in train_function  *\n        return step_function(self, iterator)\n    File \"/usr/local/lib/python3.7/dist-packages/keras/engine/training.py\", line 1010, in step_function  **\n        outputs = model.distribute_strategy.run(run_step, args=(data,))\n    File \"/usr/local/lib/python3.7/dist-packages/keras/engine/training.py\", line 1000, in run_step  **\n        outputs = model.train_step(data)\n    File \"/usr/local/lib/python3.7/dist-packages/keras/engine/training.py\", line 859, in train_step\n        y_pred = self(x, training=True)\n    File \"/usr/local/lib/python3.7/dist-packages/keras/utils/traceback_utils.py\", line 67, in error_handler\n        raise e.with_traceback(filtered_tb) from None\n    File \"/usr/local/lib/python3.7/dist-packages/keras/engine/input_spec.py\", line 249, in assert_input_compatibility\n        f'Input {input_index} of layer \"{layer_name}\" is '\n\n    ValueError: Exception encountered when calling layer \"model_1\" (type Functional).\n    \n    Input 0 of layer \"conv2d_190\" is incompatible with the layer: expected axis -1 of input shape to have value 3, but received input with shape (None, 224, 224, 1)\n    \n    Call arguments received:\n      • inputs=tf.Tensor(shape=(None, 224, 224, 1), dtype=float32)\n      • training=True\n      • mask=None\n"
          ]
        }
      ]
    },
    {
      "cell_type": "code",
      "metadata": {
        "id": "AYXfmepqfF3l",
        "colab": {
          "base_uri": "https://localhost:8080/",
          "height": 279
        },
        "outputId": "4cd261ef-3a5d-4dc1-df50-52128c67029c"
      },
      "source": [
        "from matplotlib import pyplot as plt\n",
        "\n",
        "plt.plot(history.history['loss'],'r',label='training loss')\n",
        "plt.plot(history.history['val_loss'],label='validation loss')\n",
        "plt.xlabel('# epochs')\n",
        "plt.ylabel('loss')\n",
        "plt.legend()\n",
        "plt.show()"
      ],
      "execution_count": null,
      "outputs": [
        {
          "output_type": "display_data",
          "data": {
            "image/png": "[encoded data removed]",
            "text/plain": [
              "<Figure size 432x288 with 1 Axes>"
            ]
          },
          "metadata": {
            "tags": [],
            "needs_background": "light"
          }
        }
      ]
    },
    {
      "cell_type": "code",
      "metadata": {
        "id": "rtaVSLQ4lL0I",
        "colab": {
          "base_uri": "https://localhost:8080/",
          "height": 282
        },
        "outputId": "a5cba256-7a69-478e-d4b1-55ab50b7abc1"
      },
      "source": [
        "plt.plot(history.history['accuracy'],'r',label='training accuracy')\n",
        "plt.plot(history.history['val_accuracy'],label='validation accuracy')\n",
        "plt.xlabel('# epochs')\n",
        "plt.ylabel('accuracy')\n",
        "plt.legend()\n",
        "plt.show()"
      ],
      "execution_count": null,
      "outputs": [
        {
          "output_type": "display_data",
          "data": {
            "image/png": "[encoded data removed]",
            "text/plain": [
              "<Figure size 432x288 with 1 Axes>"
            ]
          },
          "metadata": {
            "tags": [],
            "needs_background": "light"
          }
        }
      ]
    },
    {
      "cell_type": "code",
      "metadata": {
        "id": "--OMvLEOlOuY",
        "colab": {
          "base_uri": "https://localhost:8080/"
        },
        "outputId": "1c22c56b-b8f7-473d-ff1e-8befc22c3689"
      },
      "source": [
        "print(model.evaluate(test_data,test_target))"
      ],
      "execution_count": null,
      "outputs": [
        {
          "output_type": "stream",
          "text": [
            "24/24 [==============================] - 0s 20ms/step - loss: 0.3676 - accuracy: 0.8940\n",
            "[0.36761897802352905, 0.8940397500991821]\n"
          ],
          "name": "stdout"
        }
      ]
    },
    {
      "cell_type": "code",
      "metadata": {
        "id": "2ipVDv19yjFE",
        "colab": {
          "base_uri": "https://localhost:8080/"
        },
        "outputId": "901e8057-94b8-4b52-851a-982b2f462806"
      },
      "source": [
        "print(model.evaluate(test_data1,test_target1))"
      ],
      "execution_count": null,
      "outputs": [
        {
          "output_type": "stream",
          "text": [
            "95/95 [==============================] - 2s 20ms/step - loss: 0.1035 - accuracy: 0.9695\n",
            "[0.10350286960601807, 0.9695364236831665]\n"
          ],
          "name": "stdout"
        }
      ]
    },
    {
      "cell_type": "code",
      "metadata": {
        "id": "d_c2pF2_yjSG",
        "colab": {
          "base_uri": "https://localhost:8080/"
        },
        "outputId": "394b4e3c-617b-4512-a288-d32480522a56"
      },
      "source": [
        "print(model.evaluate(test_data2,test_target2))"
      ],
      "execution_count": null,
      "outputs": [
        {
          "output_type": "stream",
          "text": [
            "71/71 [==============================] - 1s 20ms/step - loss: 0.1286 - accuracy: 0.9651\n",
            "[0.1286100149154663, 0.9651213884353638]\n"
          ],
          "name": "stdout"
        }
      ]
    },
    {
      "cell_type": "code",
      "metadata": {
        "id": "pufY7aHxyjb6",
        "colab": {
          "base_uri": "https://localhost:8080/"
        },
        "outputId": "8117a2d7-20d7-4d05-9b6b-09f9936807fd"
      },
      "source": [
        "print(model.evaluate(test_data3,test_target3))"
      ],
      "execution_count": null,
      "outputs": [
        {
          "output_type": "stream",
          "text": [
            "48/48 [==============================] - 1s 20ms/step - loss: 0.1103 - accuracy: 0.9715\n",
            "[0.11033034324645996, 0.9715231657028198]\n"
          ],
          "name": "stdout"
        }
      ]
    },
    {
      "cell_type": "code",
      "metadata": {
        "id": "2qbLJnrclSOc"
      },
      "source": [
        "from keras.models import load_model\n",
        "import cv2\n",
        "import numpy as np"
      ],
      "execution_count": null,
      "outputs": []
    },
    {
      "cell_type": "code",
      "metadata": {
        "id": "Xa9RdMDjlbXK"
      },
      "source": [
        "model = load_model('model-010.model')\n",
        "\n",
        "\n",
        "labels_dict={0:'MASK',1:'NO MASK'}\n",
        "color_dict={0:(0,255,0),1:(0,0,255)}"
      ],
      "execution_count": null,
      "outputs": []
    },
    {
      "cell_type": "code",
      "metadata": {
        "id": "7-CMY5L-FzF_",
        "colab": {
          "base_uri": "https://localhost:8080/"
        },
        "outputId": "58365004-9bfe-41fb-e506-f9bbb2a052ab"
      },
      "source": [
        "import cv2\n",
        "import numpy as np\n",
        "datatest= '/content/drive/My Drive/test'\n",
        "categories=os.listdir(datatest)\n",
        "print(categories)"
      ],
      "execution_count": null,
      "outputs": [
        {
          "output_type": "stream",
          "text": [
            "['1.jpg', '0.jpg', '2-with-mask.jpg', '3-with-mask.jpg', '2.jpg', '3.jpg', '1-with-mask.jpg', '0-with-mask.jpg']\n"
          ],
          "name": "stdout"
        }
      ]
    },
    {
      "cell_type": "code",
      "metadata": {
        "id": "KPtksoSZAcwK"
      },
      "source": [
        "def prepare(filepath):\n",
        "  img_size=100\n",
        "  image_array=cv2.imread(filepath, cv2.IMREAD_GRAYSCALE)\n",
        "  test_image=cv2.resize(gray,(img_size,img_size))\n",
        "  return test_image.reshape( -1, img_size, img_size, 1)\n"
      ],
      "execution_count": null,
      "outputs": []
    },
    {
      "cell_type": "code",
      "metadata": {
        "id": "ecqOiMtlwv_p",
        "colab": {
          "base_uri": "https://localhost:8080/"
        },
        "outputId": "6d4508b3-c310-410f-f00b-2b68ce124dcd"
      },
      "source": [
        "model = load_model(\"model-010.model\")\n",
        "\n",
        "prediction = model.predict([prepare(\"1.jpg\")])\n",
        "print(prediction)"
      ],
      "execution_count": null,
      "outputs": [
        {
          "output_type": "stream",
          "text": [
            "[[0. 1.]]\n"
          ],
          "name": "stdout"
        }
      ]
    }
  ]
}